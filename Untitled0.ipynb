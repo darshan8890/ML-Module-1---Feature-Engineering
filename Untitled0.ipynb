{
  "nbformat": 4,
  "nbformat_minor": 0,
  "metadata": {
    "colab": {
      "provenance": []
    },
    "kernelspec": {
      "name": "python3",
      "display_name": "Python 3"
    },
    "language_info": {
      "name": "python"
    }
  },
  "cells": [
    {
      "cell_type": "markdown",
      "source": [
        "## **Feature Engineering**"
      ],
      "metadata": {
        "id": "fKgdYglKdLgt"
      }
    },
    {
      "cell_type": "markdown",
      "source": [
        "# **Assignment Questions**"
      ],
      "metadata": {
        "id": "VHrBussndYgS"
      }
    },
    {
      "cell_type": "code",
      "source": [
        "# Q1. What is a parameter?\n",
        "# - A parameter is a variable used in a function or method to accept input values when the function is called. Parameters allow functions to be flexible and reusable by processing different inputs.\n",
        "# For Example =\n",
        "\n",
        "def greet(name):\n",
        "    print(f\"Hello, {name}!\")\n",
        "\n",
        "greet(\"Alice\")\n",
        "greet(\"Bob\")"
      ],
      "metadata": {
        "colab": {
          "base_uri": "https://localhost:8080/"
        },
        "id": "m-oOv1SUdjZR",
        "outputId": "3240877f-1d82-423a-c1f4-e709c4c0881d"
      },
      "execution_count": null,
      "outputs": [
        {
          "output_type": "stream",
          "name": "stdout",
          "text": [
            "Hello, Alice!\n",
            "Hello, Bob!\n"
          ]
        }
      ]
    },
    {
      "cell_type": "markdown",
      "source": [
        "Q2. What is correlation? What does negative correlation mean?\n",
        "- Correlation is a statistical measure that describes the relationship between two variables. It shows how one variable changes in response to another. The correlation coefficient, usually denoted as r, ranges from -1 to 1.\n",
        "- A negative correlation means that as one variable increases, the other variable decreases (and vice versa). The correlation coefficient (r) is between -1 and 0.\n"
      ],
      "metadata": {
        "id": "9qlN__3Pd_CJ"
      }
    },
    {
      "cell_type": "markdown",
      "source": [
        "Q3. Define Machine Learning. What are the main components in Machine Learning?\n",
        "- Machine Learning (ML) is a branch of artificial intelligence (AI) that enables systems to learn from data and make predictions or decisions without explicit programming. ML models identify patterns in data and improve their performance over time.\n",
        "- Main Components of Machine Learning = Dataset, Algorithm, Loss Function, Optimization Algorithm, Evaluation Metrics, Deployment."
      ],
      "metadata": {
        "id": "diVcJljveRyf"
      }
    },
    {
      "cell_type": "markdown",
      "source": [
        "Q4. How does loss value help in determining whether the model is good or not?\n",
        "- he loss value is a numerical measure of how well a machine learning model's predictions match the actual values. It helps in determining whether the model is performing well or needs improvement.\n",
        "- Key Points About Loss Value: Lower Loss = Better Model, Loss vs. Accuracy, Types of Loss Functions, Loss During Training."
      ],
      "metadata": {
        "id": "uqGazp4yeoez"
      }
    },
    {
      "cell_type": "markdown",
      "source": [
        "Q5. What are continuous and categorical variables?\n",
        "- Continuous Variables = A continuous variable can take an infinite number of values within a given range. These values are typically numeric and measurable. Can have decimal or fractional values. Represent measurable quantities. Example: Height, weight, temperature, time, salary.\n",
        "- Categorical Variable = A categorical variable represents a fixed number of categories or groups. These values are not numerical but represent labels or classifications. Can be nominal (no order) or ordinal (ordered categories). Represent distinct groups or labels. Example: Gender, blood type, color, education level.\n"
      ],
      "metadata": {
        "id": "h9hsD0I1e45p"
      }
    },
    {
      "cell_type": "markdown",
      "source": [
        "Q6. How do we handle categorical variables in Machine Learning? What are the common techniques?\n",
        "- Machine learning models work best with numerical data, so categorical variables must be converted into numbers before training a model. There are several techniques to achieve this: Encoding Categorical Variables, Frequency Encoding, Target Encoding."
      ],
      "metadata": {
        "id": "7-qivVGDib9R"
      }
    },
    {
      "cell_type": "markdown",
      "source": [
        "Q7. What do you mean by training and testing a dataset?\n",
        "\n",
        "- Training Dataset = The training dataset is used to teach the model. It contains input data along with the corresponding correct output (labels for supervised learning). During training, the model learns patterns, relationships, and features from the data by adjusting its internal parameters (e.g., weights in neural networks).\n",
        "\n",
        "- Testing Dataset = The testing dataset is a separate subset of the data that is not shown to the model during the training process. After the model is trained, it is evaluated on this testing data to see how well it generalizes to new, unseen data.\n"
      ],
      "metadata": {
        "id": "4Y-gSdnYi2su"
      }
    },
    {
      "cell_type": "markdown",
      "source": [
        "Q8. What is sklearn.preprocessing?\n",
        "- The sklearn.preprocessing module is part of scikit-learn, a popular Python library for machine learning. This module contains a variety of tools and techniques that help prepare and transform data before using it in machine learning models.\n",
        "- Preprocessing is a crucial step in ensuring that the model receives clean, well-structured input data.\n",
        "- Common Functions and Techniques in sklearn.preprocessing are = StandardScaler, MinMaxScaler, LabelEncoder, OneHotEncoder, PolynomialFeatures, Binarizer."
      ],
      "metadata": {
        "id": "D4HjCEXFjSFp"
      }
    },
    {
      "cell_type": "markdown",
      "source": [
        "Q9. What is a test set ?\n",
        "- A test set is a subset of the dataset that is used to evaluate the performance of a machine learning model after it has been trained.\n",
        "- The key idea is that the test set contains data the model has never seen before, so it provides an unbiased evaluation of the model's ability to generalize to new, unseen data."
      ],
      "metadata": {
        "id": "ANJ4oYgbjnuF"
      }
    },
    {
      "cell_type": "code",
      "source": [
        "# For Example =\n",
        "\n",
        "from sklearn.model_selection import train_test_split\n",
        "from sklearn.datasets import load_iris\n",
        "from sklearn.ensemble import RandomForestClassifier\n",
        "\n",
        "data = load_iris()\n",
        "X = data.data\n",
        "y = data.target\n",
        "\n",
        "X_train, X_test, y_train, y_test = train_test_split(X, y, test_size=0.2, random_state=42)\n",
        "\n",
        "model = RandomForestClassifier()\n",
        "\n",
        "model.fit(X_train, y_train)\n",
        "\n",
        "predictions = model.predict(X_test)\n",
        "\n",
        "from sklearn.metrics import accuracy_score\n",
        "print(\"Accuracy:\", accuracy_score(y_test, predictions))"
      ],
      "metadata": {
        "colab": {
          "base_uri": "https://localhost:8080/"
        },
        "id": "8lgq2AFMj209",
        "outputId": "5b8291b9-b77f-49da-b393-8a3bd3fcfe91"
      },
      "execution_count": null,
      "outputs": [
        {
          "output_type": "stream",
          "name": "stdout",
          "text": [
            "Accuracy: 1.0\n"
          ]
        }
      ]
    },
    {
      "cell_type": "markdown",
      "source": [
        "Q10. How do we split data for model fitting (training and testing) in Python? How do you approach a Machine Learning problem?\n",
        "\n",
        "- In Python, you can split your dataset into training and testing sets using the train_test_split() function from the sklearn.model_selection module. This function splits the dataset into random train and test subsets, which helps in training the model on one subset and evaluating its performance on the other.\n",
        "\n",
        "- Approaching a machine learning (ML) problem requires a structured process to ensure you're addressing the problem correctly and efficiently. Here’s a general step-by-step framework for tackling an ML problem: Understand the Problem, Collect and Prepare the Data, Preprocess the Data, Split the Data into Training and Testing Sets."
      ],
      "metadata": {
        "id": "68ackE5SkL2G"
      }
    },
    {
      "cell_type": "markdown",
      "source": [
        "Q11. Why do we have to perform EDA before fitting a model to the data?\n",
        "- Performing Exploratory Data Analysis (EDA) before fitting a model to the data is a critical step in the machine learning pipeline. It helps in understanding the data and making informed decisions about preprocessing, feature engineering, and model selection.\n",
        "- Here's why EDA is essential: Understand the Data Structure, Detect Missing Values and Outliers, Discover Relationships Between Variables, Identify Data Distribution, Feature Engineering and Selection, Choose the Right Model, Visualize Data Patterns, Prepare for Data Preprocessing."
      ],
      "metadata": {
        "id": "bOYiVSBekpUH"
      }
    },
    {
      "cell_type": "markdown",
      "source": [
        "Q12. What is correlation?\n",
        "- Correlation refers to the statistical relationship or association between two or more variables. It measures the strength and direction of a linear relationship between variables. In simpler terms, it tells us how much one variable changes when another variable changes."
      ],
      "metadata": {
        "id": "XdDzhaYblzjc"
      }
    },
    {
      "cell_type": "markdown",
      "source": [
        "Q13. What does negative correlation mean?\n",
        "- Negative correlation means that as one variable increases, the other variable decreases, and vice versa. In other words, there is an inverse relationship between the two variables.\n",
        "- In a scatter plot, negative correlation is shown by a downward-sloping trend from left to right. The correlation coefficient (r) for a negative correlation is between -1 and 0. The closer the value is to -1, the stronger the negative correlation."
      ],
      "metadata": {
        "id": "PgcGWLmjnnir"
      }
    },
    {
      "cell_type": "markdown",
      "source": [
        "Q14. How can you find correlation between variables in Python?\n",
        "- To find the correlation between variables in Python, you can use libraries like Pandas and NumPy. The most common method for calculating correlation is Pearson's correlation coefficient, which measures the linear relationship between two variables."
      ],
      "metadata": {
        "id": "EvsHtQbHosuS"
      }
    },
    {
      "cell_type": "code",
      "source": [
        "# For Example =\n",
        "\n",
        "import pandas as pd\n",
        "\n",
        "data = {\n",
        "    'X': [1, 2, 3, 4, 5],\n",
        "    'Y': [5, 4, 3, 2, 1],\n",
        "    'Z': [2, 4, 6, 8, 10]\n",
        "}\n",
        "\n",
        "df = pd.DataFrame(data)\n",
        "\n",
        "print(df)"
      ],
      "metadata": {
        "colab": {
          "base_uri": "https://localhost:8080/"
        },
        "id": "WkMwsDTRpCyb",
        "outputId": "66abca9d-6f22-4340-da9e-fd1a4e7495fe"
      },
      "execution_count": null,
      "outputs": [
        {
          "output_type": "stream",
          "name": "stdout",
          "text": [
            "   X  Y   Z\n",
            "0  1  5   2\n",
            "1  2  4   4\n",
            "2  3  3   6\n",
            "3  4  2   8\n",
            "4  5  1  10\n"
          ]
        }
      ]
    },
    {
      "cell_type": "markdown",
      "source": [
        "Q15. What is causation? Explain difference between correlation and causation with an example.\n",
        "\n",
        "- Causation means that one event directly causes another event to happen. In other words, a change in one variable directly leads to a change in another variable. If X causes Y, then changing X will result in a change in Y.\n",
        "- Causation = Measures the relationship between two variables. Example = Shoe size and intelligence may have a positive correlation, but shoe size does not cause intelligence to increase. The actual reason is that older children have bigger feet and also perform better on intelligence tests due to age.\n",
        "- Causation = Only One variable directly affects another. For Example = Smoking and lung cancer: Scientific studies show that smoking causes lung cancer. This is a causal relationship.\n"
      ],
      "metadata": {
        "id": "7XAlc4RapwvS"
      }
    },
    {
      "cell_type": "markdown",
      "source": [
        "Q16. What is an Optimizer? What are different types of optimizers? Explain each with an example.\n",
        "\n",
        "- An optimizer is an algorithm or method used in machine learning to adjust the model’s parameters (such as weights and biases) to minimize the loss function and improve model performance.\n",
        "- There are two main categories of Optimizers = First-Order Optimization Algorithms, Second-Order Optimization Algorithms."
      ],
      "metadata": {
        "id": "8rm5wX_eHt97"
      }
    },
    {
      "cell_type": "code",
      "source": [
        "# Example for First-Order Optimization algorithm =\n",
        "\n",
        "\n",
        "import numpy as np\n",
        "import matplotlib.pyplot as plt\n",
        "\n",
        "def function(w):\n",
        "    return (w - 3) ** 2\n",
        "\n",
        "def gradient(w):\n",
        "    return 2 * (w - 3)\n",
        "\n",
        "w = np.random.randn()\n",
        "learning_rate = 0.1\n",
        "iterations = 20\n",
        "\n",
        "w_history = [w]\n",
        "\n",
        "for _ in range(iterations):\n",
        "    w -= learning_rate * gradient(w)\n",
        "    w_history.append(w)\n",
        "\n",
        "w_values = np.linspace(0, 6, 100)\n",
        "plt.plot(w_values, function(w_values), label=\"Loss Function\")\n",
        "plt.scatter(w_history, [function(w) for w in w_history], color='red', marker='o', label=\"SGD Steps\")\n",
        "plt.xlabel(\"w (parameter)\")\n",
        "plt.ylabel(\"Loss (f(w))\")\n",
        "plt.legend()\n",
        "plt.title(\"Gradient Descent Optimization Path\")\n",
        "plt.show()\n",
        "\n",
        "print(f\"Optimized w: {w:.4f}\")"
      ],
      "metadata": {
        "colab": {
          "base_uri": "https://localhost:8080/",
          "height": 490
        },
        "id": "sDAAw_lUI3C3",
        "outputId": "fb9c8787-ccf2-441e-c970-2e6a92bbdaab"
      },
      "execution_count": null,
      "outputs": [
        {
          "output_type": "display_data",
          "data": {
            "text/plain": [
              "<Figure size 640x480 with 1 Axes>"
            ],
            "image/png": "[encoded data removed]"
          },
          "metadata": {}
        },
        {
          "output_type": "stream",
          "name": "stdout",
          "text": [
            "Optimized w: 2.9574\n"
          ]
        }
      ]
    },
    {
      "cell_type": "code",
      "source": [
        "# Example for the Second-Order Optimization =\n",
        "\n",
        "\n",
        "import numpy as np\n",
        "import matplotlib.pyplot as plt\n",
        "\n",
        "def function(w):\n",
        "    return (w - 3) ** 2\n",
        "\n",
        "def first_derivative(w):\n",
        "    return 2 * (w - 3)\n",
        "\n",
        "def second_derivative(w):\n",
        "    return 2\n",
        "\n",
        "w = np.random.randn()\n",
        "iterations = 5\n",
        "\n",
        "w_history = [w]\n",
        "\n",
        "for _ in range(iterations):\n",
        "    w = w - first_derivative(w) / second_derivative(w)\n",
        "    w_history.append(w)\n",
        "\n",
        "w_values = np.linspace(0, 6, 100)\n",
        "plt.plot(w_values, function(w_values), label=\"Loss Function\")\n",
        "plt.scatter(w_history, [function(w) for w in w_history], color='red', marker='o', label=\"Newton's Steps\")\n",
        "plt.xlabel(\"w (parameter)\")\n",
        "plt.ylabel(\"Loss (f(w))\")\n",
        "plt.legend()\n",
        "plt.title(\"Newton's Method Optimization Path\")\n",
        "plt.show()\n",
        "\n",
        "print(f\"Optimized w: {w:.4f}\")"
      ],
      "metadata": {
        "colab": {
          "base_uri": "https://localhost:8080/",
          "height": 490
        },
        "id": "r5uUW28mJAgl",
        "outputId": "4155f683-a598-46fa-ddaa-fac5aaaacdc7"
      },
      "execution_count": null,
      "outputs": [
        {
          "output_type": "display_data",
          "data": {
            "text/plain": [
              "<Figure size 640x480 with 1 Axes>"
            ],
            "image/png": "[encoded data removed]"
          },
          "metadata": {}
        },
        {
          "output_type": "stream",
          "name": "stdout",
          "text": [
            "Optimized w: 3.0000\n"
          ]
        }
      ]
    },
    {
      "cell_type": "markdown",
      "source": [
        "Q17. What is sklearn.linear_model ?\n",
        "- sklearn.linear_model is a module in Scikit-Learn that provides various linear models for regression and classification tasks. It includes popular algorithms like Linear Regression, Logistic Regression, Ridge, Lasso, and more."
      ],
      "metadata": {
        "id": "u9emc5cuJuM9"
      }
    },
    {
      "cell_type": "code",
      "source": [
        "# For Example =\n",
        "\n",
        "\n",
        "from sklearn.linear_model import LinearRegression\n",
        "import numpy as np\n",
        "\n",
        "X = np.array([[1], [2], [3], [4], [5]])\n",
        "y = np.array([2, 4, 6, 8, 10])\n",
        "\n",
        "model = LinearRegression()\n",
        "model.fit(X, y)\n",
        "\n",
        "prediction = model.predict([[6]])\n",
        "print(\"Predicted value:\", prediction[0])"
      ],
      "metadata": {
        "colab": {
          "base_uri": "https://localhost:8080/"
        },
        "id": "epESz_NTKBMl",
        "outputId": "3d07287d-08fe-4787-940d-a7b7e03ebf6e"
      },
      "execution_count": null,
      "outputs": [
        {
          "output_type": "stream",
          "name": "stdout",
          "text": [
            "Predicted value: 12.0\n"
          ]
        }
      ]
    },
    {
      "cell_type": "markdown",
      "source": [
        "Q18. What does model.fit() do? What arguments must be given?\n",
        "\n",
        "- The model.fit() function is used in Scikit-Learn to train a machine learning model on a given dataset. It adjusts the model’s internal parameters (like weights and biases) based on the input data."
      ],
      "metadata": {
        "id": "0Krezs1YKKEY"
      }
    },
    {
      "cell_type": "code",
      "source": [
        "# Example for a fit() using linear regression.\n",
        "\n",
        "\n",
        "import numpy as np\n",
        "\n",
        "X = np.array([[1], [2], [3], [4], [5]])\n",
        "y = np.array([2, 4, 6, 8, 10])\n",
        "\n",
        "model = LinearRegression()\n",
        "\n",
        "model.fit(X, y)\n",
        "\n",
        "print(\"Slope (Coefficient):\", model.coef_)\n",
        "print(\"Intercept:\", model.intercept_)"
      ],
      "metadata": {
        "colab": {
          "base_uri": "https://localhost:8080/"
        },
        "id": "Q2Kf19xxKnNr",
        "outputId": "2934290c-d8a7-4b29-e48f-2264e9852b12"
      },
      "execution_count": null,
      "outputs": [
        {
          "output_type": "stream",
          "name": "stdout",
          "text": [
            "Slope (Coefficient): [2.]\n",
            "Intercept: 0.0\n"
          ]
        }
      ]
    },
    {
      "cell_type": "markdown",
      "source": [
        "Q19. What does model.predict() do? What arguments must be given?\n",
        "\n",
        "- The model.predict() function in Scikit-Learn is used to make predictions on new or unseen data after a model has been trained using model.fit(X, y).\n",
        "- It takes an input (features X_test) and returns the model’s predicted output (y_pred)."
      ],
      "metadata": {
        "id": "LxS4U_wFsDgW"
      }
    },
    {
      "cell_type": "code",
      "source": [
        "# For Example =\n",
        "\n",
        "\n",
        "from sklearn.linear_model import LinearRegression\n",
        "import numpy as np\n",
        "\n",
        "X_train = np.array([[1], [2], [3], [4], [5]])\n",
        "y_train = np.array([2, 4, 6, 8, 10])\n",
        "\n",
        "model = LinearRegression()\n",
        "model.fit(X_train, y_train)\n",
        "\n",
        "X_test = np.array([[6], [7], [8]])\n",
        "predictions = model.predict(X_test)\n",
        "\n",
        "print(\"Predicted values:\", predictions)"
      ],
      "metadata": {
        "colab": {
          "base_uri": "https://localhost:8080/"
        },
        "id": "Ey1zSKFOsRhW",
        "outputId": "adacbf5d-58fd-4fc2-d1d8-d20a8766fddd"
      },
      "execution_count": null,
      "outputs": [
        {
          "output_type": "stream",
          "name": "stdout",
          "text": [
            "Predicted values: [12. 14. 16.]\n"
          ]
        }
      ]
    },
    {
      "cell_type": "markdown",
      "source": [
        "Q20. What are continuous and categorical variables?\n",
        "\n",
        "- Continuos Variables = A continuous variable is a variable that can take any numerical value within a given range. It represents measurable data and can have fractional or decimal values. It Can take infinite values within a range. Arithmetic operations like addition, subtraction, and averaging make sense.\n",
        "\n",
        "- Categorical Variables = A categorical variable is a variable that represents a group or category rather than a numerical value. These variables classify data into distinct groups and do not have a numerical meaning. There are two types of Categorical Variables = Nominal Variables (No Order), Ordinal Variables (Ordered Categories)."
      ],
      "metadata": {
        "id": "2lNQVCsb3VUA"
      }
    },
    {
      "cell_type": "markdown",
      "source": [
        "Q21. What is feature scaling? How does it help in Machine Learning?\n",
        "- Feature scaling is a technique used in Machine Learning to standardize or normalize the range of independent variables (features). It ensures that all features have the same scale, preventing some features from dominating others due to differences in magnitude.\n",
        "- Types of Feature Scaling Techniques = Min-Max Scaling, Standardization, Robust Scaling."
      ],
      "metadata": {
        "id": "erSqluo8Aj7d"
      }
    },
    {
      "cell_type": "markdown",
      "source": [
        "Q22. How do we perform scaling in Python?\n",
        "- In Python, feature scaling is performed using the sklearn.preprocessing module. The most common scaling techniques are Min-Max Scaling, Standardization (Z-Score Scaling), and Robust Scaling."
      ],
      "metadata": {
        "id": "pXmTmSavF1zP"
      }
    },
    {
      "cell_type": "markdown",
      "source": [
        "Q23. What is sklearn.preprocessing?\n",
        "- The sklearn.preprocessing module in Scikit-Learn provides various functions to transform and preprocess data before training Machine Learning models. It includes feature scaling, encoding categorical variables, normalization, and feature engineering techniques."
      ],
      "metadata": {
        "id": "YYPivUXZGcdD"
      }
    },
    {
      "cell_type": "code",
      "source": [
        "# For Example =\n",
        "\n",
        "\n",
        "from sklearn.preprocessing import MinMaxScaler\n",
        "\n",
        "data = [[10], [20], [30], [40], [50]]\n",
        "\n",
        "scaler = MinMaxScaler()\n",
        "scaled_data = scaler.fit_transform(data)\n",
        "\n",
        "print(scaled_data)"
      ],
      "metadata": {
        "colab": {
          "base_uri": "https://localhost:8080/"
        },
        "id": "9K4UfOOIGm7E",
        "outputId": "e8d2b66f-b3b3-4ee1-adca-c664f37ad1fe"
      },
      "execution_count": null,
      "outputs": [
        {
          "output_type": "stream",
          "name": "stdout",
          "text": [
            "[[0.  ]\n",
            " [0.25]\n",
            " [0.5 ]\n",
            " [0.75]\n",
            " [1.  ]]\n"
          ]
        }
      ]
    },
    {
      "cell_type": "markdown",
      "source": [
        "Q24. How do we split data for model fitting (training and testing) in Python?\n",
        "- In Python, we typically use the train_test_split function from sklearn.model_selection to split data into training and testing sets. Here’s how you can do it:"
      ],
      "metadata": {
        "id": "RNH7N6C4T3_z"
      }
    },
    {
      "cell_type": "code",
      "source": [
        "# For Example =\n",
        "\n",
        "\n",
        "from sklearn.model_selection import train_test_split\n",
        "import numpy as np\n",
        "\n",
        "X = np.array([[1], [2], [3], [4], [5], [6], [7], [8], [9], [10]])\n",
        "y = np.array([0, 1, 0, 1, 0, 1, 0, 1, 0, 1])\n",
        "\n",
        "X_train, X_test, y_train, y_test = train_test_split(X, y, test_size=0.2, random_state=42)\n",
        "\n",
        "print(\"Training set:\", X_train)\n",
        "print(\"Testing set:\", X_test)"
      ],
      "metadata": {
        "colab": {
          "base_uri": "https://localhost:8080/"
        },
        "id": "3FqHDHq4JZnC",
        "outputId": "f7d21b67-c696-4e83-9856-0ed0d8418fe7"
      },
      "execution_count": 1,
      "outputs": [
        {
          "output_type": "stream",
          "name": "stdout",
          "text": [
            "Training set: [[ 6]\n",
            " [ 1]\n",
            " [ 8]\n",
            " [ 3]\n",
            " [10]\n",
            " [ 5]\n",
            " [ 4]\n",
            " [ 7]]\n",
            "Testing set: [[9]\n",
            " [2]]\n"
          ]
        }
      ]
    },
    {
      "cell_type": "markdown",
      "source": [
        "# **Thank You Sir/Ma'am,**\n",
        "**Your's sincerely\n",
        "Darshan Panchal**"
      ],
      "metadata": {
        "id": "CpV0KIkJKroB"
      }
    }
  ]
}